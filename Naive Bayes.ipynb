{
 "cells": [
  {
   "cell_type": "code",
   "execution_count": 1,
   "id": "59ce225f",
   "metadata": {},
   "outputs": [],
   "source": [
    "import numpy as np\n",
    "import pandas as pd\n",
    "from sklearn.feature_extraction.text import CountVectorizer\n",
    "from sklearn.model_selection import train_test_split\n",
    "from sklearn.metrics import accuracy_score, classification_report"
   ]
  },
  {
   "cell_type": "code",
   "execution_count": 2,
   "id": "32018577",
   "metadata": {},
   "outputs": [],
   "source": [
    "data = pd.read_csv('C:/Users/bhatt/OneDrive/Desktop/whisper-main/Assignments/spam_and_ham_classification.csv/spam_and_ham_classification.csv', nrows = 1000)"
   ]
  },
  {
   "cell_type": "code",
   "execution_count": 3,
   "id": "921d2f25",
   "metadata": {},
   "outputs": [
    {
     "ename": "KeyboardInterrupt",
     "evalue": "",
     "output_type": "error",
     "traceback": [
      "\u001b[1;31m---------------------------------------------------------------------------\u001b[0m",
      "\u001b[1;31mKeyboardInterrupt\u001b[0m                         Traceback (most recent call last)",
      "Cell \u001b[1;32mIn[3], line 43\u001b[0m\n\u001b[0;32m     40\u001b[0m         preds\u001b[38;5;241m.\u001b[39mappend(label)\n\u001b[0;32m     41\u001b[0m     \u001b[38;5;28;01mreturn\u001b[39;00m np\u001b[38;5;241m.\u001b[39marray(preds)\n\u001b[1;32m---> 43\u001b[0m Y_pred \u001b[38;5;241m=\u001b[39m \u001b[43mpredict\u001b[49m\u001b[43m(\u001b[49m\u001b[43mX_train\u001b[49m\u001b[43m,\u001b[49m\u001b[43m \u001b[49m\u001b[43mY_train\u001b[49m\u001b[43m,\u001b[49m\u001b[43m \u001b[49m\u001b[43mX_test\u001b[49m\u001b[43m)\u001b[49m\n\u001b[0;32m     45\u001b[0m acc \u001b[38;5;241m=\u001b[39m accuracy_score(Y_test, Y_pred)\n\u001b[0;32m     47\u001b[0m \u001b[38;5;28mprint\u001b[39m(\u001b[38;5;124m'\u001b[39m\u001b[38;5;124mAccuracy:\u001b[39m\u001b[38;5;124m'\u001b[39m, acc)\n",
      "Cell \u001b[1;32mIn[3], line 39\u001b[0m, in \u001b[0;36mpredict\u001b[1;34m(X_train, Y_train, X_test)\u001b[0m\n\u001b[0;32m     36\u001b[0m preds \u001b[38;5;241m=\u001b[39m []\n\u001b[0;32m     38\u001b[0m \u001b[38;5;28;01mfor\u001b[39;00m i \u001b[38;5;129;01min\u001b[39;00m \u001b[38;5;28mrange\u001b[39m(X_test\u001b[38;5;241m.\u001b[39mshape[\u001b[38;5;241m0\u001b[39m]):\n\u001b[1;32m---> 39\u001b[0m     label, _ \u001b[38;5;241m=\u001b[39m \u001b[43mposterior\u001b[49m\u001b[43m(\u001b[49m\u001b[43mX_train\u001b[49m\u001b[43m,\u001b[49m\u001b[43m \u001b[49m\u001b[43mY_train\u001b[49m\u001b[43m,\u001b[49m\u001b[43m \u001b[49m\u001b[43mX_test\u001b[49m\u001b[43m[\u001b[49m\u001b[43mi\u001b[49m\u001b[43m]\u001b[49m\u001b[43m)\u001b[49m\n\u001b[0;32m     40\u001b[0m     preds\u001b[38;5;241m.\u001b[39mappend(label)\n\u001b[0;32m     41\u001b[0m \u001b[38;5;28;01mreturn\u001b[39;00m np\u001b[38;5;241m.\u001b[39marray(preds)\n",
      "Cell \u001b[1;32mIn[3], line 26\u001b[0m, in \u001b[0;36mposterior\u001b[1;34m(X_train, Y_train, X_test)\u001b[0m\n\u001b[0;32m     23\u001b[0m cond_prob \u001b[38;5;241m=\u001b[39m \u001b[38;5;241m1\u001b[39m\n\u001b[0;32m     25\u001b[0m \u001b[38;5;28;01mfor\u001b[39;00m i \u001b[38;5;129;01min\u001b[39;00m \u001b[38;5;28mrange\u001b[39m(X_train\u001b[38;5;241m.\u001b[39mshape[\u001b[38;5;241m1\u001b[39m]):\n\u001b[1;32m---> 26\u001b[0m     prob \u001b[38;5;241m=\u001b[39m \u001b[43mlikelihood\u001b[49m\u001b[43m(\u001b[49m\u001b[43mX_train\u001b[49m\u001b[43m,\u001b[49m\u001b[43m \u001b[49m\u001b[43mY_train\u001b[49m\u001b[43m,\u001b[49m\u001b[43m \u001b[49m\u001b[43mi\u001b[49m\u001b[43m,\u001b[49m\u001b[43m \u001b[49m\u001b[43mX_test\u001b[49m\u001b[43m[\u001b[49m\u001b[43mi\u001b[49m\u001b[43m]\u001b[49m\u001b[43m,\u001b[49m\u001b[43m \u001b[49m\u001b[43mlabel\u001b[49m\u001b[43m)\u001b[49m\n\u001b[0;32m     27\u001b[0m     cond_prob \u001b[38;5;241m*\u001b[39m\u001b[38;5;241m=\u001b[39m prob\n\u001b[0;32m     29\u001b[0m prior \u001b[38;5;241m=\u001b[39m prior_prob(Y_train, label)\n",
      "Cell \u001b[1;32mIn[3], line 13\u001b[0m, in \u001b[0;36mlikelihood\u001b[1;34m(X_train, Y_train, feat_col, feat_val, label)\u001b[0m\n\u001b[0;32m     12\u001b[0m \u001b[38;5;28;01mdef\u001b[39;00m \u001b[38;5;21mlikelihood\u001b[39m(X_train, Y_train, feat_col, feat_val, label):\n\u001b[1;32m---> 13\u001b[0m     X_train_label \u001b[38;5;241m=\u001b[39m \u001b[43mX_train\u001b[49m\u001b[43m[\u001b[49m\u001b[43mY_train\u001b[49m\u001b[43m \u001b[49m\u001b[38;5;241;43m==\u001b[39;49m\u001b[43m \u001b[49m\u001b[43mlabel\u001b[49m\u001b[43m]\u001b[49m\n\u001b[0;32m     14\u001b[0m     numerator \u001b[38;5;241m=\u001b[39m np\u001b[38;5;241m.\u001b[39msum(X_train_label[:, feat_col] \u001b[38;5;241m==\u001b[39m feat_val)\n\u001b[0;32m     15\u001b[0m     denominator \u001b[38;5;241m=\u001b[39m np\u001b[38;5;241m.\u001b[39msum(Y_train \u001b[38;5;241m==\u001b[39m label)\n",
      "\u001b[1;31mKeyboardInterrupt\u001b[0m: "
     ]
    }
   ],
   "source": [
    "X = data['text'].values\n",
    "Y = data['label'].values\n",
    "\n",
    "vectorizer = CountVectorizer()\n",
    "X_vectorised = vectorizer.fit_transform(X).toarray()\n",
    "\n",
    "X_train, X_test, Y_train, Y_test = train_test_split(X_vectorised, Y, test_size = 0.2, random_state = 100)\n",
    "\n",
    "def prior_prob(Y_train, label):\n",
    "    return np.sum(Y_train == label) / Y_train.shape[0]\n",
    "\n",
    "def likelihood(X_train, Y_train, feat_col, feat_val, label):\n",
    "    X_train_label = X_train[Y_train == label]\n",
    "    numerator = np.sum(X_train_label[:, feat_col] == feat_val)\n",
    "    denominator = np.sum(Y_train == label)\n",
    "    return numerator / denominator if denominator != 0 else 1\n",
    "\n",
    "def posterior(X_train, Y_train, X_test):\n",
    "    classes = np.unique(Y_train)\n",
    "    post_prob = []\n",
    "\n",
    "    for label in classes:\n",
    "        cond_prob = 1\n",
    "\n",
    "        for i in range(X_train.shape[1]):\n",
    "            prob = likelihood(X_train, Y_train, i, X_test[i], label)\n",
    "            cond_prob *= prob\n",
    "\n",
    "        prior = prior_prob(Y_train, label)\n",
    "        posterior_prob = cond_prob * prior\n",
    "        post_prob.append(posterior_prob)\n",
    "\n",
    "    return np.argmax(post_prob), post_prob\n",
    "\n",
    "def predict(X_train, Y_train, X_test):\n",
    "    preds = []\n",
    "    \n",
    "    for i in range(X_test.shape[0]):\n",
    "        label, _ = posterior(X_train, Y_train, X_test[i])\n",
    "        preds.append(label)\n",
    "    return np.array(preds)\n",
    "\n",
    "Y_pred = predict(X_train, Y_train, X_test)\n",
    "\n",
    "acc = accuracy_score(Y_test, Y_pred)\n",
    "\n",
    "print('Accuracy:', acc)\n",
    "print('Classification Report', classification_report(Y_test, Y_pred))"
   ]
  },
  {
   "cell_type": "code",
   "execution_count": null,
   "id": "cfd4bd36",
   "metadata": {},
   "outputs": [],
   "source": []
  }
 ],
 "metadata": {
  "kernelspec": {
   "display_name": "Python 3 (ipykernel)",
   "language": "python",
   "name": "python3"
  },
  "language_info": {
   "codemirror_mode": {
    "name": "ipython",
    "version": 3
   },
   "file_extension": ".py",
   "mimetype": "text/x-python",
   "name": "python",
   "nbconvert_exporter": "python",
   "pygments_lexer": "ipython3",
   "version": "3.8.10"
  }
 },
 "nbformat": 4,
 "nbformat_minor": 5
}
