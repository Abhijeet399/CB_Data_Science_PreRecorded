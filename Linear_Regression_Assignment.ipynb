{
 "cells": [
  {
   "cell_type": "code",
   "execution_count": 4,
   "id": "478ee2b6",
   "metadata": {},
   "outputs": [],
   "source": [
    "import pandas as pd\n",
    "import numpy as np\n",
    "import matplotlib.pyplot as plt"
   ]
  },
  {
   "cell_type": "code",
   "execution_count": 5,
   "id": "c431525a",
   "metadata": {},
   "outputs": [],
   "source": [
    "def hypothesis(X, weights):\n",
    "    return np.dot(X, weights)"
   ]
  },
  {
   "cell_type": "code",
   "execution_count": 6,
   "id": "3ada3244",
   "metadata": {},
   "outputs": [],
   "source": [
    "def loss_func(X, weights, Y):\n",
    "    loss = 0\n",
    "    Y_pred = hypothesis(X, weights)\n",
    "    loss = np.sum((Y_pred - Y)**2)\n",
    "    return loss/X.shape[0]"
   ]
  },
  {
   "cell_type": "code",
   "execution_count": 7,
   "id": "92b1cfaa",
   "metadata": {},
   "outputs": [],
   "source": [
    "def gradient(X, Y, weight):\n",
    "    y_pred = hypothesis(X, weight)\n",
    "    grad = np.dot(X.T, (y_pred - Y))\n",
    "        \n",
    "    return grad/X.shape[0]"
   ]
  },
  {
   "cell_type": "code",
   "execution_count": 8,
   "id": "41b4f4ee",
   "metadata": {},
   "outputs": [],
   "source": [
    "def gradient_descent(X, Y):\n",
    "    weights = np.zeros((X.shape[1], ))\n",
    "    lr_rate = 0.03\n",
    "    loss_epoch = []\n",
    "    \n",
    "    epochs = 1000\n",
    "    \n",
    "    for i in range(epochs):\n",
    "        \n",
    "        grad = gradient(X, Y, weights)\n",
    "        \n",
    "        loss_epoch.append(loss_func(X, weights, Y))\n",
    "        \n",
    "        weights = weights - lr_rate * grad\n",
    "        \n",
    "    return weights, loss_epoch"
   ]
  },
  {
   "cell_type": "code",
   "execution_count": 13,
   "id": "4e36ebd1",
   "metadata": {},
   "outputs": [],
   "source": [
    "data = pd.read_csv('C:/Users/bhatt/OneDrive/Desktop/whisper-main/Assignments/prices-split-adjusted.csv/prices-split-adjusted.csv', nrows = 20000)"
   ]
  },
  {
   "cell_type": "code",
   "execution_count": 14,
   "id": "aa070286",
   "metadata": {},
   "outputs": [],
   "source": [
    "features = ['open', 'low', 'high', 'volume']\n",
    "target = 'close'"
   ]
  },
  {
   "cell_type": "code",
   "execution_count": 15,
   "id": "42befbee",
   "metadata": {},
   "outputs": [],
   "source": [
    "X = data[features].values\n",
    "Y = data[target].values"
   ]
  },
  {
   "cell_type": "code",
   "execution_count": 16,
   "id": "08701eb4",
   "metadata": {},
   "outputs": [
    {
     "data": {
      "text/plain": [
       "((20000, 4), (20000,))"
      ]
     },
     "execution_count": 16,
     "metadata": {},
     "output_type": "execute_result"
    }
   ],
   "source": [
    "X.shape, Y.shape"
   ]
  },
  {
   "cell_type": "code",
   "execution_count": 18,
   "id": "dcb69cf5",
   "metadata": {},
   "outputs": [],
   "source": [
    "u = np.mean(X, axis = 0)\n",
    "std = np.std(X, axis = 0)"
   ]
  },
  {
   "cell_type": "code",
   "execution_count": 20,
   "id": "bfa1f198",
   "metadata": {},
   "outputs": [
    {
     "name": "stdout",
     "output_type": "stream",
     "text": [
      "(4,) (4,)\n"
     ]
    }
   ],
   "source": [
    "print(u.shape, std.shape)"
   ]
  },
  {
   "cell_type": "code",
   "execution_count": 21,
   "id": "748fdfd2",
   "metadata": {},
   "outputs": [],
   "source": [
    "X = (X - u)/std"
   ]
  },
  {
   "cell_type": "code",
   "execution_count": 22,
   "id": "60f8f142",
   "metadata": {},
   "outputs": [],
   "source": [
    "ones = np.ones((X.shape[0], 1))\n",
    "X = np.hstack((ones, X))"
   ]
  },
  {
   "cell_type": "code",
   "execution_count": 28,
   "id": "dcedc524",
   "metadata": {},
   "outputs": [
    {
     "data": {
      "text/plain": [
       "(20000, 5)"
      ]
     },
     "execution_count": 28,
     "metadata": {},
     "output_type": "execute_result"
    }
   ],
   "source": [
    "X.shape"
   ]
  },
  {
   "cell_type": "code",
   "execution_count": 29,
   "id": "781fbda9",
   "metadata": {},
   "outputs": [],
   "source": [
    "split = 0.8\n",
    "\n",
    "train_X = X[:int(split * X.shape[0]), :]\n",
    "train_Y = Y[:int(split * X.shape[0])]\n",
    "test_X = X[int(split * X.shape[0]):, :]\n",
    "test_Y = Y[int(split * X.shape[0]):]"
   ]
  },
  {
   "cell_type": "code",
   "execution_count": 30,
   "id": "5b313b56",
   "metadata": {},
   "outputs": [
    {
     "name": "stdout",
     "output_type": "stream",
     "text": [
      "(16000, 5) (16000,) (4000, 5) (4000,)\n"
     ]
    }
   ],
   "source": [
    "print(train_X.shape, train_Y.shape, test_X.shape, test_Y.shape)"
   ]
  },
  {
   "cell_type": "code",
   "execution_count": 31,
   "id": "e8c1b814",
   "metadata": {},
   "outputs": [],
   "source": [
    "weights, loss_epoch = gradient_descent(train_X, train_Y)"
   ]
  },
  {
   "cell_type": "code",
   "execution_count": 32,
   "id": "24971a85",
   "metadata": {},
   "outputs": [
    {
     "data": {
      "image/png": "[encoded data removed]",
      "text/plain": [
       "<Figure size 640x480 with 1 Axes>"
      ]
     },
     "metadata": {},
     "output_type": "display_data"
    }
   ],
   "source": [
    "plt.plot(loss_epoch)\n",
    "plt.xlabel('Epochs')\n",
    "plt.ylabel('Loss')\n",
    "plt.title('Loss vs Epochs')\n",
    "plt.show()"
   ]
  },
  {
   "cell_type": "code",
   "execution_count": 33,
   "id": "4825f69c",
   "metadata": {},
   "outputs": [],
   "source": [
    "def predict(X, weights):\n",
    "    y_pred = []\n",
    "    for i in range(X.shape[0]):\n",
    "        y_pred.append(hypothesis(X[i], weights))\n",
    "    return np.array(y_pred)"
   ]
  },
  {
   "cell_type": "code",
   "execution_count": 34,
   "id": "461d3144",
   "metadata": {},
   "outputs": [],
   "source": [
    "y_pred = predict(test_X, weights)"
   ]
  },
  {
   "cell_type": "code",
   "execution_count": 35,
   "id": "69d272e2",
   "metadata": {},
   "outputs": [],
   "source": [
    "from sklearn.metrics import r2_score\n",
    "from sklearn.metrics import mean_absolute_error\n",
    "from sklearn.metrics import mean_squared_error"
   ]
  },
  {
   "cell_type": "code",
   "execution_count": 36,
   "id": "de4874a0",
   "metadata": {},
   "outputs": [
    {
     "name": "stdout",
     "output_type": "stream",
     "text": [
      "Mean Squared Error: 0.18407356665064634\n",
      "Mean Absolute Error: 0.2574941996545873\n",
      "R2 score: 0.9998237858372833\n"
     ]
    }
   ],
   "source": [
    "mse = mean_squared_error(test_Y, y_pred)\n",
    "r2 = r2_score(test_Y, y_pred)\n",
    "mae = mean_absolute_error(test_Y, y_pred)\n",
    "print(f'Mean Squared Error: {mse}')\n",
    "print(f'Mean Absolute Error: {mae}')\n",
    "print(f'R2 score: {r2}')"
   ]
  },
  {
   "cell_type": "code",
   "execution_count": 37,
   "id": "03a6cffb",
   "metadata": {},
   "outputs": [
    {
     "data": {
      "text/plain": [
       "array([ 3.95017513e+01,  1.10690783e+01,  1.12101958e+01,  1.12151537e+01,\n",
       "       -1.57244260e-02])"
      ]
     },
     "execution_count": 37,
     "metadata": {},
     "output_type": "execute_result"
    }
   ],
   "source": [
    "weights"
   ]
  },
  {
   "cell_type": "code",
   "execution_count": null,
   "id": "3ad2ee35",
   "metadata": {},
   "outputs": [],
   "source": []
  }
 ],
 "metadata": {
  "kernelspec": {
   "display_name": "Python 3 (ipykernel)",
   "language": "python",
   "name": "python3"
  },
  "language_info": {
   "codemirror_mode": {
    "name": "ipython",
    "version": 3
   },
   "file_extension": ".py",
   "mimetype": "text/x-python",
   "name": "python",
   "nbconvert_exporter": "python",
   "pygments_lexer": "ipython3",
   "version": "3.8.10"
  }
 },
 "nbformat": 4,
 "nbformat_minor": 5
}
