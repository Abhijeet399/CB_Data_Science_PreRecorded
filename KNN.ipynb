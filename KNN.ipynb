{
  "nbformat": 4,
  "nbformat_minor": 0,
  "metadata": {
    "colab": {
      "provenance": []
    },
    "kernelspec": {
      "name": "python3",
      "display_name": "Python 3"
    },
    "language_info": {
      "name": "python"
    }
  },
  "cells": [
    {
      "cell_type": "code",
      "execution_count": 1,
      "metadata": {
        "id": "ZiXkV1JwBAFc",
        "outputId": "3e463461-b736-4faa-95ad-314e2a38ab26",
        "colab": {
          "base_uri": "https://localhost:8080/"
        }
      },
      "outputs": [
        {
          "output_type": "stream",
          "name": "stdout",
          "text": [
            "Predicted Class: 0, Prob: 0.6\n",
            "Test Point: [  6.    98.    58.    33.   190.    34.     0.43  43.  ]\n",
            "Predicted Class: 0, Probability: 0.6\n"
          ]
        }
      ],
      "source": [
        "import numpy as np\n",
        "import pandas as pd\n",
        "from sklearn.model_selection import train_test_split\n",
        "\n",
        "# Load the dataset\n",
        "data = pd.read_csv('Logistic_Y_Train.csv')\n",
        "\n",
        "# Extract features and labels\n",
        "X = data.iloc[:, :-1].values\n",
        "Y = data.iloc[:, -1].values\n",
        "\n",
        "# Split the dataset into training and testing sets\n",
        "X_train, X_test, Y_train, Y_test = train_test_split(X, Y, test_size=0.2, random_state=42)\n",
        "\n",
        "# KNN classifier class\n",
        "class KNN_classifier:\n",
        "    def __init__(self, k=5):\n",
        "        self.k = k\n",
        "\n",
        "    def initialise_data(self, X, Y):\n",
        "        self.X = X\n",
        "        self.Y = Y\n",
        "\n",
        "    def distance_formula(self, point1, point2):\n",
        "        return np.sqrt(np.sum((point1 - point2)**2))\n",
        "\n",
        "    def predict(self, test_point):\n",
        "        distances = []\n",
        "        for i in range(self.X.shape[0]):\n",
        "            distances.append((self.distance_formula(test_point, self.X[i]), self.Y[i])) # Self.Y represents the vote of that particular training data\n",
        "\n",
        "        distances = sorted(distances)\n",
        "        distances = distances[:self.k]\n",
        "\n",
        "        labels = []\n",
        "\n",
        "        for _, label in distances:\n",
        "            labels.append(label)\n",
        "\n",
        "        all_labels, counts = np.unique(labels, return_counts=True)\n",
        "\n",
        "        max_count_index = np.argmax(counts)\n",
        "\n",
        "        print(f'Predicted Class: {all_labels[max_count_index]}, Prob: {counts[max_count_index]/np.sum(counts)}')\n",
        "\n",
        "        return all_labels[max_count_index], counts[max_count_index]/np.sum(counts)\n",
        "\n",
        "# Initialize and train the KNN classifier\n",
        "knn = KNN_classifier(k=5)\n",
        "knn.initialise_data(X_train, Y_train)\n",
        "\n",
        "# Predict the outcome for a test point (for demonstration purposes, we use the first test sample)\n",
        "test_point = X_test[0]\n",
        "predicted_class, probability = knn.predict(test_point)\n",
        "\n",
        "print(f'Test Point: {test_point}')\n",
        "print(f'Predicted Class: {predicted_class}, Probability: {probability}')\n"
      ]
    },
    {
      "cell_type": "code",
      "source": [],
      "metadata": {
        "id": "lO3CON_Ing-l"
      },
      "execution_count": null,
      "outputs": []
    }
  ]
}